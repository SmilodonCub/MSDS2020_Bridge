{
  "nbformat": 4,
  "nbformat_minor": 0,
  "metadata": {
    "colab": {
      "name": "Untitled0.ipynb",
      "provenance": [],
      "include_colab_link": true
    },
    "kernelspec": {
      "name": "python3",
      "display_name": "Python 3"
    }
  },
  "cells": [
    {
      "cell_type": "markdown",
      "metadata": {
        "id": "view-in-github",
        "colab_type": "text"
      },
      "source": [
        "<a href=\"https://colab.research.google.com/github/SmilodonCub/MSDS2020_Bridge/blob/master/MathwithPythong_week1_Homework.ipynb\" target=\"_parent\"><img src=\"https://colab.research.google.com/assets/colab-badge.svg\" alt=\"Open In Colab\"/></a>"
      ]
    },
    {
      "cell_type": "markdown",
      "metadata": {
        "id": "MuR1yvz9_EVJ",
        "colab_type": "text"
      },
      "source": [
        "# Math with Python Week 1 Homework\n",
        "### Bonnie Cooper\n",
        "### bcooper@sunyopt.edu"
      ]
    },
    {
      "cell_type": "markdown",
      "metadata": {
        "id": "1DHGFJMb_R_D",
        "colab_type": "text"
      },
      "source": [
        "Chapter1. Programming Challenge 1 page 22, Even-Odd Vending Machine"
      ]
    },
    {
      "cell_type": "code",
      "metadata": {
        "id": "7zrNcw4k_c8N",
        "colab_type": "code",
        "colab": {}
      },
      "source": [
        ""
      ],
      "execution_count": 0,
      "outputs": []
    },
    {
      "cell_type": "markdown",
      "metadata": {
        "id": "CbwjPwAL_dap",
        "colab_type": "text"
      },
      "source": [
        "Chapter 2. Programming Challenge 2 page 55, Exploring a Quadratic Function Visually"
      ]
    },
    {
      "cell_type": "code",
      "metadata": {
        "id": "7_LvwBoL_mmH",
        "colab_type": "code",
        "colab": {}
      },
      "source": [
        ""
      ],
      "execution_count": 0,
      "outputs": []
    },
    {
      "cell_type": "markdown",
      "metadata": {
        "id": "QYeInubw_nCq",
        "colab_type": "text"
      },
      "source": [
        "Chapter 3. Programming Challenge 2 page 89, Statistics Calculator"
      ]
    },
    {
      "cell_type": "code",
      "metadata": {
        "id": "O-ntMACm_2kf",
        "colab_type": "code",
        "colab": {}
      },
      "source": [
        ""
      ],
      "execution_count": 0,
      "outputs": []
    },
    {
      "cell_type": "markdown",
      "metadata": {
        "id": "vDa6Loyj_26C",
        "colab_type": "text"
      },
      "source": [
        "Chapter 4. Programming Challenge 4 page 117, Solving Single-Variable Inequalities"
      ]
    },
    {
      "cell_type": "code",
      "metadata": {
        "id": "lQBi2gz4AI-0",
        "colab_type": "code",
        "colab": {}
      },
      "source": [
        ""
      ],
      "execution_count": 0,
      "outputs": []
    },
    {
      "cell_type": "markdown",
      "metadata": {
        "id": "4dv9ouDhAJbJ",
        "colab_type": "text"
      },
      "source": [
        "Chapter 5. Programming Challenge 2 page 143, Law of Large Numbers"
      ]
    },
    {
      "cell_type": "code",
      "metadata": {
        "id": "JWMpmIaGAQiv",
        "colab_type": "code",
        "colab": {}
      },
      "source": [
        ""
      ],
      "execution_count": 0,
      "outputs": []
    },
    {
      "cell_type": "markdown",
      "metadata": {
        "id": "eUsfJrQEAQ3A",
        "colab_type": "text"
      },
      "source": [
        "Chapter 7. Programming Challenge 2 page 205, Implement the Gradient Descent"
      ]
    },
    {
      "cell_type": "code",
      "metadata": {
        "id": "v04v1Dr-AaM4",
        "colab_type": "code",
        "colab": {}
      },
      "source": [
        ""
      ],
      "execution_count": 0,
      "outputs": []
    }
  ]
}